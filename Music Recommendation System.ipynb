{
 "cells": [
  {
   "cell_type": "code",
   "execution_count": 31,
   "id": "eb53d4d6",
   "metadata": {},
   "outputs": [],
   "source": [
    "# Import the necessary libraries\n",
    "import numpy as np\n",
    "import pandas as pd"
   ]
  },
  {
   "cell_type": "code",
   "execution_count": 32,
   "id": "44925d0c",
   "metadata": {},
   "outputs": [
    {
     "data": {
      "text/html": [
       "<div>\n",
       "<style scoped>\n",
       "    .dataframe tbody tr th:only-of-type {\n",
       "        vertical-align: middle;\n",
       "    }\n",
       "\n",
       "    .dataframe tbody tr th {\n",
       "        vertical-align: top;\n",
       "    }\n",
       "\n",
       "    .dataframe thead th {\n",
       "        text-align: right;\n",
       "    }\n",
       "</style>\n",
       "<table border=\"1\" class=\"dataframe\">\n",
       "  <thead>\n",
       "    <tr style=\"text-align: right;\">\n",
       "      <th></th>\n",
       "      <th>artist</th>\n",
       "      <th>song</th>\n",
       "      <th>link</th>\n",
       "      <th>text</th>\n",
       "    </tr>\n",
       "  </thead>\n",
       "  <tbody>\n",
       "    <tr>\n",
       "      <th>0</th>\n",
       "      <td>ABBA</td>\n",
       "      <td>Ahe's My Kind Of Girl</td>\n",
       "      <td>/a/abba/ahes+my+kind+of+girl_20598417.html</td>\n",
       "      <td>Look at her face, it's a wonderful face  \\nAnd...</td>\n",
       "    </tr>\n",
       "    <tr>\n",
       "      <th>1</th>\n",
       "      <td>ABBA</td>\n",
       "      <td>Andante, Andante</td>\n",
       "      <td>/a/abba/andante+andante_20002708.html</td>\n",
       "      <td>Take it easy with me, please  \\nTouch me gentl...</td>\n",
       "    </tr>\n",
       "    <tr>\n",
       "      <th>2</th>\n",
       "      <td>ABBA</td>\n",
       "      <td>As Good As New</td>\n",
       "      <td>/a/abba/as+good+as+new_20003033.html</td>\n",
       "      <td>I'll never know why I had to go  \\nWhy I had t...</td>\n",
       "    </tr>\n",
       "    <tr>\n",
       "      <th>3</th>\n",
       "      <td>ABBA</td>\n",
       "      <td>Bang</td>\n",
       "      <td>/a/abba/bang_20598415.html</td>\n",
       "      <td>Making somebody happy is a question of give an...</td>\n",
       "    </tr>\n",
       "    <tr>\n",
       "      <th>4</th>\n",
       "      <td>ABBA</td>\n",
       "      <td>Bang-A-Boomerang</td>\n",
       "      <td>/a/abba/bang+a+boomerang_20002668.html</td>\n",
       "      <td>Making somebody happy is a question of give an...</td>\n",
       "    </tr>\n",
       "  </tbody>\n",
       "</table>\n",
       "</div>"
      ],
      "text/plain": [
       "  artist                   song                                        link  \\\n",
       "0   ABBA  Ahe's My Kind Of Girl  /a/abba/ahes+my+kind+of+girl_20598417.html   \n",
       "1   ABBA       Andante, Andante       /a/abba/andante+andante_20002708.html   \n",
       "2   ABBA         As Good As New        /a/abba/as+good+as+new_20003033.html   \n",
       "3   ABBA                   Bang                  /a/abba/bang_20598415.html   \n",
       "4   ABBA       Bang-A-Boomerang      /a/abba/bang+a+boomerang_20002668.html   \n",
       "\n",
       "                                                text  \n",
       "0  Look at her face, it's a wonderful face  \\nAnd...  \n",
       "1  Take it easy with me, please  \\nTouch me gentl...  \n",
       "2  I'll never know why I had to go  \\nWhy I had t...  \n",
       "3  Making somebody happy is a question of give an...  \n",
       "4  Making somebody happy is a question of give an...  "
      ]
     },
     "execution_count": 32,
     "metadata": {},
     "output_type": "execute_result"
    }
   ],
   "source": [
    "# Load th dataset\n",
    "df = pd.read_csv(r\"E:\\Python\\New Projects\\data\\songdata.csv\")\n",
    "df.head()"
   ]
  },
  {
   "cell_type": "code",
   "execution_count": 33,
   "id": "7f296e45",
   "metadata": {},
   "outputs": [
    {
     "data": {
      "text/plain": [
       "(57650, 4)"
      ]
     },
     "execution_count": 33,
     "metadata": {},
     "output_type": "execute_result"
    }
   ],
   "source": [
    "df .shape"
   ]
  },
  {
   "cell_type": "code",
   "execution_count": 34,
   "id": "dd06d65d",
   "metadata": {},
   "outputs": [],
   "source": [
    "# Taking only 5000 rows from the dataset and also drop the link column\n",
    "data = df.sample(n=5000).drop('link',axis=1).reset_index(drop=True)"
   ]
  },
  {
   "cell_type": "code",
   "execution_count": 35,
   "id": "6a2d9761",
   "metadata": {},
   "outputs": [
    {
     "data": {
      "text/html": [
       "<div>\n",
       "<style scoped>\n",
       "    .dataframe tbody tr th:only-of-type {\n",
       "        vertical-align: middle;\n",
       "    }\n",
       "\n",
       "    .dataframe tbody tr th {\n",
       "        vertical-align: top;\n",
       "    }\n",
       "\n",
       "    .dataframe thead th {\n",
       "        text-align: right;\n",
       "    }\n",
       "</style>\n",
       "<table border=\"1\" class=\"dataframe\">\n",
       "  <thead>\n",
       "    <tr style=\"text-align: right;\">\n",
       "      <th></th>\n",
       "      <th>artist</th>\n",
       "      <th>song</th>\n",
       "      <th>text</th>\n",
       "    </tr>\n",
       "  </thead>\n",
       "  <tbody>\n",
       "    <tr>\n",
       "      <th>0</th>\n",
       "      <td>Bing Crosby</td>\n",
       "      <td>It's Beginning To Look Like Christmas</td>\n",
       "      <td>It's beginning to look a lot like Christmas  \\...</td>\n",
       "    </tr>\n",
       "    <tr>\n",
       "      <th>1</th>\n",
       "      <td>Vonda Shepard</td>\n",
       "      <td>Clean Rain</td>\n",
       "      <td>Oh city shine on tomorrow  \\nFor today I feel ...</td>\n",
       "    </tr>\n",
       "    <tr>\n",
       "      <th>2</th>\n",
       "      <td>Lil Wayne</td>\n",
       "      <td>Big Tigger Live On The Radio</td>\n",
       "      <td>[Big Tigger]  \\nA you lockdown to the south to...</td>\n",
       "    </tr>\n",
       "    <tr>\n",
       "      <th>3</th>\n",
       "      <td>Johnny Cash</td>\n",
       "      <td>Chain Gang</td>\n",
       "      <td>I was just a kid roamin' around travelin' thro...</td>\n",
       "    </tr>\n",
       "    <tr>\n",
       "      <th>4</th>\n",
       "      <td>Alice Cooper</td>\n",
       "      <td>How You Gonna See Me Now</td>\n",
       "      <td>Dear darlin' surprised to hear from me?  \\nBet...</td>\n",
       "    </tr>\n",
       "  </tbody>\n",
       "</table>\n",
       "</div>"
      ],
      "text/plain": [
       "          artist                                   song  \\\n",
       "0    Bing Crosby  It's Beginning To Look Like Christmas   \n",
       "1  Vonda Shepard                             Clean Rain   \n",
       "2      Lil Wayne           Big Tigger Live On The Radio   \n",
       "3    Johnny Cash                             Chain Gang   \n",
       "4   Alice Cooper               How You Gonna See Me Now   \n",
       "\n",
       "                                                text  \n",
       "0  It's beginning to look a lot like Christmas  \\...  \n",
       "1  Oh city shine on tomorrow  \\nFor today I feel ...  \n",
       "2  [Big Tigger]  \\nA you lockdown to the south to...  \n",
       "3  I was just a kid roamin' around travelin' thro...  \n",
       "4  Dear darlin' surprised to hear from me?  \\nBet...  "
      ]
     },
     "execution_count": 35,
     "metadata": {},
     "output_type": "execute_result"
    }
   ],
   "source": [
    "data.head()"
   ]
  },
  {
   "cell_type": "code",
   "execution_count": 36,
   "id": "2fcdaf4d",
   "metadata": {},
   "outputs": [
    {
     "data": {
      "text/plain": [
       "(5000, 3)"
      ]
     },
     "execution_count": 36,
     "metadata": {},
     "output_type": "execute_result"
    }
   ],
   "source": [
    "data.shape"
   ]
  },
  {
   "cell_type": "code",
   "execution_count": 37,
   "id": "6bdabedd",
   "metadata": {},
   "outputs": [],
   "source": [
    "# We create a content based recommendation system"
   ]
  },
  {
   "cell_type": "markdown",
   "id": "b3f8631c",
   "metadata": {},
   "source": [
    "# Data Cleaning"
   ]
  },
  {
   "cell_type": "code",
   "execution_count": 38,
   "id": "af90d473",
   "metadata": {},
   "outputs": [
    {
     "data": {
      "text/plain": [
       "\"It's Beginning To Look Like Christmas\""
      ]
     },
     "execution_count": 38,
     "metadata": {},
     "output_type": "execute_result"
    }
   ],
   "source": [
    "#Checking the data\n",
    "data['song'][0]"
   ]
  },
  {
   "cell_type": "code",
   "execution_count": 39,
   "id": "5922dde1",
   "metadata": {},
   "outputs": [
    {
     "data": {
      "text/plain": [
       "\"It's beginning to look a lot like Christmas  \\nEverywhere you go  \\nTake a look in the five and ten  \\nGlistening once again  \\nWith candy canes and silver lanes aglow  \\n  \\nIt's beginning to look a lot like Christmas  \\n(Christmas)  \\nToys in every store  \\nBut the prettiest sight to see  \\nIs the holly that will be  \\nOn your own front door  \\n  \\nA pair of hop-along boots and a pistol that shoots  \\nIs the wish of Barney and Ben  \\nDolls that will talk and will go for a walk  \\nIs the hope of Janice and Jen  \\nAnd mom and dad can hardly wait  \\nFor school to start again  \\n  \\nIt's beginning to look a lot like Christmas  \\nEverywhere you go  \\nThere's a tree in the Grand Hotel  \\nOne in the park as well  \\nThe sturdy kind that doesn't mind the snow  \\n  \\nIt's beginning to look a lot like Christmas  \\nSoon the bells will start  \\nAnd the thing that will make them ring  \\nIs the carol that you sing  \\nRight within your heart  \\n  \\nIt's beginning to look a lot like Christmas  \\nToys in every store  \\nBut the prettiest sight to see  \\nIs the holly that will be  \\nOn your own front door  \\nSure it's Christmas once more\\n\\n\""
      ]
     },
     "execution_count": 39,
     "metadata": {},
     "output_type": "execute_result"
    }
   ],
   "source": [
    "data['text'][0]"
   ]
  },
  {
   "cell_type": "code",
   "execution_count": 40,
   "id": "1c5c6ff3",
   "metadata": {},
   "outputs": [
    {
     "data": {
      "text/plain": [
       "0       it's beginning to look a lot like christmas  \\...\n",
       "1       oh city shine on tomorrow  \\nfor today i feel ...\n",
       "2       [big tigger]  \\na you lockdown to the south to...\n",
       "3       i was just a kid roamin' around travelin' thro...\n",
       "4       dear darlin' surprised to hear from me?  \\nbet...\n",
       "                              ...                        \n",
       "4995    when the daylight is falling down into the nig...\n",
       "4996    who is this man  \\nthat follows me  \\nthis blu...\n",
       "4997    [chorus 8x]  \\nroll 'em up, roll up the hooty ...\n",
       "4998    you, me  \\nunderstand  \\nshake my hand  \\nlast...\n",
       "4999    roland was a warrior from the land of the midn...\n",
       "Name: text, Length: 5000, dtype: object"
      ]
     },
     "execution_count": 40,
     "metadata": {},
     "output_type": "execute_result"
    }
   ],
   "source": [
    "#Clean the text column\n",
    "data['text'].str.lower().replace(r'[^a-zA-Z0-9]','')         #This is the one way"
   ]
  },
  {
   "cell_type": "code",
   "execution_count": 41,
   "id": "a10a8978",
   "metadata": {},
   "outputs": [
    {
     "data": {
      "text/plain": [
       "\"it's beginning to look a lot like christmas   everywhere you go   take a look in the five and ten   glistening once again   with candy canes and silver lanes aglow      it's beginning to look a lot like christmas   (christmas)   toys in every store   but the prettiest sight to see   is the holly that will be   on your own front door      a pair of hop-along boots and a pistol that shoots   is the wish of barney and ben   dolls that will talk and will go for a walk   is the hope of janice and jen   and mom and dad can hardly wait   for school to start again      it's beginning to look a lot like christmas   everywhere you go   there's a tree in the grand hotel   one in the park as well   the sturdy kind that doesn't mind the snow      it's beginning to look a lot like christmas   soon the bells will start   and the thing that will make them ring   is the carol that you sing   right within your heart      it's beginning to look a lot like christmas   toys in every store   but the prettiest sight to see   is the holly that will be   on your own front door   sure it's christmas once more  \""
      ]
     },
     "execution_count": 41,
     "metadata": {},
     "output_type": "execute_result"
    }
   ],
   "source": [
    "#Another way\n",
    "data['text'] = data['text'].str.lower().replace(r'[^\\w\\s]','').replace(r'\\n',' ',regex = True) \n",
    "data['text'][0]"
   ]
  },
  {
   "cell_type": "code",
   "execution_count": 42,
   "id": "cf7548ec",
   "metadata": {},
   "outputs": [],
   "source": [
    "#Now performimg stemming\n",
    "import nltk\n",
    "from nltk.stem.porter import PorterStemmer\n",
    "\n",
    "ps = PorterStemmer()"
   ]
  },
  {
   "cell_type": "code",
   "execution_count": 43,
   "id": "fe653022",
   "metadata": {},
   "outputs": [],
   "source": [
    "\n",
    "\n",
    "def Tokanization(text):\n",
    "    tokens = nltk.word_tokenize(text)\n",
    "    stemming = [ps.stem(w) for w in tokens]\n",
    "    return \" \".join(stemming)"
   ]
  },
  {
   "cell_type": "code",
   "execution_count": 44,
   "id": "63501838",
   "metadata": {},
   "outputs": [
    {
     "data": {
      "text/plain": [
       "'thi is my word love love'"
      ]
     },
     "execution_count": 44,
     "metadata": {},
     "output_type": "execute_result"
    }
   ],
   "source": [
    "#Test the function\n",
    "Tokanization('this is my word loving loved')"
   ]
  },
  {
   "cell_type": "code",
   "execution_count": 45,
   "id": "9c972506",
   "metadata": {},
   "outputs": [],
   "source": [
    "data['text'] = data['text'].apply(lambda x: Tokanization(x))"
   ]
  },
  {
   "cell_type": "code",
   "execution_count": 46,
   "id": "fe83c387",
   "metadata": {},
   "outputs": [
    {
     "data": {
      "text/plain": [
       "0       it 's begin to look a lot like christma everyw...\n",
       "1       oh citi shine on tomorrow for today i feel rai...\n",
       "2       [ big tigger ] a you lockdown to the south to ...\n",
       "3       i wa just a kid roamin ' around travelin ' thr...\n",
       "4       dear darlin ' surpris to hear from me ? bet yo...\n",
       "                              ...                        \n",
       "4995    when the daylight is fall down into the night ...\n",
       "4996    who is thi man that follow me thi blue eye boy...\n",
       "4997    [ choru 8x ] roll 'em up , roll up the hooti m...\n",
       "4998    you , me understand shake my hand last chanc ,...\n",
       "4999    roland wa a warrior from the land of the midni...\n",
       "Name: text, Length: 5000, dtype: object"
      ]
     },
     "execution_count": 46,
     "metadata": {},
     "output_type": "execute_result"
    }
   ],
   "source": [
    "data['text']"
   ]
  },
  {
   "cell_type": "code",
   "execution_count": 47,
   "id": "9a55e381",
   "metadata": {},
   "outputs": [],
   "source": [
    "from sklearn.feature_extraction.text import TfidfVectorizer\n",
    "from sklearn.metrics.pairwise import cosine_similarity"
   ]
  },
  {
   "cell_type": "code",
   "execution_count": 48,
   "id": "ed7e83a8",
   "metadata": {},
   "outputs": [],
   "source": [
    "tfidf = TfidfVectorizer(stop_words = 'english')\n",
    "metrix = tfidf.fit_transform(data['text'])\n"
   ]
  },
  {
   "cell_type": "code",
   "execution_count": 49,
   "id": "d4eb57e2",
   "metadata": {},
   "outputs": [
    {
     "data": {
      "text/plain": [
       "(5000, 17255)"
      ]
     },
     "execution_count": 49,
     "metadata": {},
     "output_type": "execute_result"
    }
   ],
   "source": [
    "metrix.shape"
   ]
  },
  {
   "cell_type": "code",
   "execution_count": 51,
   "id": "36acb3c6",
   "metadata": {},
   "outputs": [
    {
     "data": {
      "text/plain": [
       "array([[1.        , 0.04103174, 0.007567  , ..., 0.01196803, 0.01138397,\n",
       "        0.        ],\n",
       "       [0.04103174, 1.        , 0.01776299, ..., 0.05973553, 0.08302049,\n",
       "        0.00219464],\n",
       "       [0.007567  , 0.01776299, 1.        , ..., 0.05653312, 0.00861454,\n",
       "        0.00563358],\n",
       "       ...,\n",
       "       [0.01196803, 0.05973553, 0.05653312, ..., 1.        , 0.01422159,\n",
       "        0.00659386],\n",
       "       [0.01138397, 0.08302049, 0.00861454, ..., 0.01422159, 1.        ,\n",
       "        0.01386319],\n",
       "       [0.        , 0.00219464, 0.00563358, ..., 0.00659386, 0.01386319,\n",
       "        1.        ]])"
      ]
     },
     "execution_count": 51,
     "metadata": {},
     "output_type": "execute_result"
    }
   ],
   "source": [
    "#We use cosine similarity for similarity score\n",
    "similarity = cosine_similarity(metrix)\n",
    "similarity"
   ]
  },
  {
   "cell_type": "code",
   "execution_count": 52,
   "id": "47afb024",
   "metadata": {},
   "outputs": [],
   "source": [
    "#Now define a recommender function \n",
    "\n",
    "def recommendation(song):\n",
    "    idx = data[data['song']==song].index[0]\n",
    "    distances = sorted(list(enumerate(similarity[idx])), reverse= False, key= lambda x: x[1])\n",
    "    \n",
    "    songs = []\n",
    "    for i in distances[1:21]:\n",
    "        songs.append(data.iloc[i[0]].song)\n",
    "        \n",
    "    return songs\n",
    "                       "
   ]
  },
  {
   "cell_type": "code",
   "execution_count": 54,
   "id": "79443f2e",
   "metadata": {},
   "outputs": [
    {
     "data": {
      "text/plain": [
       "0       It's Beginning To Look Like Christmas\n",
       "1                                  Clean Rain\n",
       "2                Big Tigger Live On The Radio\n",
       "3                                  Chain Gang\n",
       "4                    How You Gonna See Me Now\n",
       "                        ...                  \n",
       "4995                          Big City Nights\n",
       "4996                             Here To Stay\n",
       "4997                              Roll 'em Up\n",
       "4998                           Nothing's Free\n",
       "4999      Roland The Headless Thompson Gunner\n",
       "Name: song, Length: 5000, dtype: object"
      ]
     },
     "execution_count": 54,
     "metadata": {},
     "output_type": "execute_result"
    }
   ],
   "source": [
    "data['song']"
   ]
  },
  {
   "cell_type": "code",
   "execution_count": 55,
   "id": "9d5c70c8",
   "metadata": {},
   "outputs": [
    {
     "data": {
      "text/plain": [
       "['Washed Away',\n",
       " 'Those Canaan Days',\n",
       " 'Who Is It?',\n",
       " 'Manhattan - Tel Aviv',\n",
       " 'Atlantic City',\n",
       " 'Back To The Country',\n",
       " 'Ashes To Ashes',\n",
       " '4 The Tears In Your Eyes',\n",
       " 'Lakky Lady',\n",
       " 'Buttered Beauties',\n",
       " \"Livin' On The Fault Line\",\n",
       " 'I Want To Hold Your Hand',\n",
       " 'Dialogue',\n",
       " 'She Was My Best Friend',\n",
       " 'Jesus Of Rio',\n",
       " \"Oh Lord, You're Beautiful\",\n",
       " 'Children Of The Revolution',\n",
       " \"I'll Get By (As Long As I Have You)\",\n",
       " 'O Lord, You Are My God',\n",
       " 'Old Rugged Cross']"
      ]
     },
     "execution_count": 55,
     "metadata": {},
     "output_type": "execute_result"
    }
   ],
   "source": [
    "# Check the recomended songs\n",
    "recommendation(\"It's Beginning To Look Like Christmas\")"
   ]
  },
  {
   "cell_type": "markdown",
   "id": "b8ace014",
   "metadata": {},
   "source": [
    "# Results- Recommendation System works accurately by recommending same genres songs"
   ]
  },
  {
   "cell_type": "code",
   "execution_count": null,
   "id": "f2580d7f",
   "metadata": {},
   "outputs": [],
   "source": []
  }
 ],
 "metadata": {
  "kernelspec": {
   "display_name": "Python 3 (ipykernel)",
   "language": "python",
   "name": "python3"
  },
  "language_info": {
   "codemirror_mode": {
    "name": "ipython",
    "version": 3
   },
   "file_extension": ".py",
   "mimetype": "text/x-python",
   "name": "python",
   "nbconvert_exporter": "python",
   "pygments_lexer": "ipython3",
   "version": "3.9.12"
  }
 },
 "nbformat": 4,
 "nbformat_minor": 5
}
